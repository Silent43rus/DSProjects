{
 "cells": [
  {
   "cell_type": "code",
   "execution_count": 1,
   "id": "db03432c",
   "metadata": {},
   "outputs": [],
   "source": [
    "import os\n",
    "from tensorflow import keras\n",
    "from keras import *\n",
    "from keras.layers import *\n",
    "from keras.models import *\n",
    "from keras.preprocessing.image import ImageDataGenerator\n",
    "import random\n",
    "import shutil\n",
    "import keras\n",
    "import keras.utils\n",
    "from keras.utils.np_utils import to_categorical"
   ]
  },
  {
   "cell_type": "code",
   "execution_count": null,
   "id": "820f02b5",
   "metadata": {},
   "outputs": [],
   "source": [
    "# Подготовка данных"
   ]
  },
  {
   "cell_type": "code",
   "execution_count": 2,
   "id": "bf935d8c",
   "metadata": {},
   "outputs": [],
   "source": [
    "# получение данных\n",
    "%matplotlib inline\n",
    "\n",
    "import matplotlib.pyplot as plt\n",
    "import numpy as np\n",
    "import os\n",
    "import pprint\n",
    "pp = pprint.PrettyPrinter(indent = 4)\n",
    "\n",
    "import joblib\n",
    "from skimage.io import imread\n",
    "from skimage.transform  import resize\n",
    "\n",
    "def resize_all(src, pklname, include, width = 150, height=None):\n",
    "    height = height if height is not None else width\n",
    "    \n",
    "    data = dict()\n",
    "    data['description'] = 'resized ({0}x{1})animal images in rgb'.format(int(width), int(height))\n",
    "    data['label'] = []\n",
    "    data['filename'] = []\n",
    "    data['data'] = []\n",
    "    \n",
    "    pklname = f\"{pklname}_{width}x{height}px.pkl\"\n",
    "    \n",
    "    for subdir in os.listdir(src):\n",
    "        if subdir in include:\n",
    "            print(subdir)\n",
    "            current_path = os.path.join(src,subdir)\n",
    "            \n",
    "            for file in os.listdir(current_path):\n",
    "                if file[-3:] in {'jpg', 'png'}:\n",
    "                    im = imread(os.path.join(current_path, file))\n",
    "                    im = resize(im, (width, height))\n",
    "                    if im.shape == (150,150,3):\n",
    "                        data['label'].append(subdir[:-4])\n",
    "                        data['filename'].append(file)\n",
    "                        data['data'].append(im)\n",
    "                    \n",
    "        joblib.dump(data, pklname)"
   ]
  },
  {
   "cell_type": "code",
   "execution_count": 3,
   "id": "74510d57",
   "metadata": {},
   "outputs": [
    {
     "name": "stdout",
     "output_type": "stream",
     "text": [
      "BearHead\n",
      "CatHead\n",
      "ChickenHead\n",
      "CowHead\n",
      "DeerHead\n",
      "DogHead\n",
      "DuckHead\n",
      "EagleHead\n",
      "ElephantHead\n",
      "HumanHead\n",
      "LionHead\n",
      "MonkeyHead\n",
      "MouseHead\n",
      "PandaHead\n",
      "PigeonHead\n",
      "PigHead\n",
      "RabbitHead\n",
      "SheepHead\n",
      "TigerHead\n",
      "WolfHead\n",
      "BearHead\n",
      "CatHead\n",
      "ChickenHead\n",
      "CowHead\n",
      "DeerHead\n",
      "DogHead\n",
      "DuckHead\n",
      "EagleHead\n",
      "ElephantHead\n",
      "HumanHead\n",
      "LionHead\n",
      "MonkeyHead\n",
      "MouseHead\n",
      "PandaHead\n",
      "PigeonHead\n",
      "PigHead\n",
      "RabbitHead\n",
      "SheepHead\n",
      "TigerHead\n",
      "WolfHead\n"
     ]
    }
   ],
   "source": [
    "data_path = \"D:/ashikh/work/CV/AnimalFaces_choice/train\"\n",
    "data_path_test = \"D:/ashikh/work/CV/AnimalFaces_choice/test\"\n",
    "base_name = 'animal_faces'\n",
    "base_name_test = 'animal_faces_test'\n",
    "width = 150\n",
    "include = {'BearHead', 'CatHead', 'ChickenHead', \n",
    "           'CowHead', 'DeerHead', 'DogHead', 'DuckHead',\n",
    "           'EagleHead', 'ElephantHead', 'HumanHead', 'LionHead', 'MonkeyHead',\n",
    "           'MouseHead', 'PandaHead', 'PigeonHead', 'PigHead', 'RabbitHead',\n",
    "           'SheepHead', 'TigerHead', 'WolfHead'}\n",
    "\n",
    "# include = {'BearHead', 'CatHead', 'ChickenHead', \n",
    "#            'CowHead', 'DeerHead', 'DogHead', 'DuckHead'}\n",
    "\n",
    "resize_all(src=data_path, pklname=base_name, width=width, include=include)\n",
    "resize_all(src=data_path_test, pklname=base_name_test, width=width, include=include)\n",
    "\n",
    "data = joblib.load(f'{base_name}_{width}x{width}px.pkl')\n",
    "data_test = joblib.load(f'{base_name_test}_{width}x{width}px.pkl')\n",
    "\n"
   ]
  },
  {
   "cell_type": "code",
   "execution_count": 4,
   "id": "b46d9f24",
   "metadata": {},
   "outputs": [],
   "source": [
    "def y_preproc(y_train, y_test):\n",
    "    temp = []\n",
    "    for i in y_train:\n",
    "        for j in range(len(class_name)):\n",
    "            if i == class_name[j]:\n",
    "                temp.append(j)\n",
    "    y_train = temp\n",
    "    temp = []\n",
    "    for i in y_test:\n",
    "        for j in range(len(class_name)):\n",
    "            if i == class_name[j]:\n",
    "                temp.append(j)\n",
    "    y_test = temp\n",
    "    y_train = to_categorical(y_train)\n",
    "    y_test = to_categorical(y_test)\n",
    "    return y_train, y_test"
   ]
  },
  {
   "cell_type": "code",
   "execution_count": 5,
   "id": "fff59ca0",
   "metadata": {},
   "outputs": [],
   "source": [
    "from sklearn.model_selection import train_test_split\n",
    "import pandas as pd\n",
    "from collections import defaultdict\n",
    "\n",
    "X_train = np.array(data['data'])\n",
    "y_train = np.array(data['label'])\n",
    "X_test = np.array(data_test['data'])\n",
    "y_test = np.array(data_test['label'])\n",
    "\n",
    "\n",
    "class_name = ['Bear', 'Cat', 'Chicken', \n",
    "           'Cow', 'Deer', 'Dog', 'Duck',\n",
    "           'Eagle', 'Elephant', 'Human', 'Lion', 'Monkey',\n",
    "           'Mouse', 'Panda', 'Pigeon', 'Pig', 'Rabbit',\n",
    "           'Sheep', 'Tiger', 'Wolf']\n",
    "\n",
    "# class_name = ['Bear', 'Cat', 'Chicken', \n",
    "#            'Cow', 'Deer', 'Dog', 'Duck']\n",
    "\n",
    "y_train, y_test = y_preproc(y_train, y_test)"
   ]
  },
  {
   "cell_type": "code",
   "execution_count": null,
   "id": "c6b37fd2",
   "metadata": {},
   "outputs": [],
   "source": [
    "# Генерация модели"
   ]
  },
  {
   "cell_type": "code",
   "execution_count": 43,
   "id": "6da84eb1",
   "metadata": {},
   "outputs": [],
   "source": [
    "img_width, img_height = 150, 150\n",
    "\n",
    "input_shape = (150, 150, 3)\n",
    "epochs = 20\n",
    "batch_size = 20\n"
   ]
  },
  {
   "cell_type": "code",
   "execution_count": 47,
   "id": "2b5c0960",
   "metadata": {},
   "outputs": [],
   "source": [
    "model = Sequential()\n",
    "model.add(Conv2D(32, (3, 3), input_shape = input_shape))\n",
    "model.add(Activation('relu'))\n",
    "model.add(MaxPooling2D(pool_size = (2, 2)))\n",
    "\n",
    "model.add(Conv2D(32, (3, 3)))\n",
    "model.add(Activation('relu'))\n",
    "model.add(MaxPooling2D(pool_size = (2, 2)))\n",
    "\n",
    "model.add(Conv2D(64, (3, 3)))\n",
    "model.add(Activation('relu'))\n",
    "model.add(MaxPooling2D(pool_size = (2, 2)))\n",
    "\n",
    "model.add(Flatten())\n",
    "model.add(Dense(784))\n",
    "model.add(Activation('relu'))\n",
    "model.add(Dropout(0.25))\n",
    "model.add(Dense(20))\n",
    "model.add(Activation('sigmoid'))"
   ]
  },
  {
   "cell_type": "code",
   "execution_count": 48,
   "id": "f6ebbd61",
   "metadata": {},
   "outputs": [],
   "source": [
    "model.compile(loss = 'categorical_crossentropy',\n",
    "              optimizer = 'adam',\n",
    "              metrics = ['accuracy'])"
   ]
  },
  {
   "cell_type": "code",
   "execution_count": 49,
   "id": "e4c4f756",
   "metadata": {},
   "outputs": [
    {
     "name": "stdout",
     "output_type": "stream",
     "text": [
      "Epoch 1/20\n",
      "97/97 [==============================] - 21s 214ms/step - loss: 2.5249 - accuracy: 0.2518 - val_loss: 1.8191 - val_accuracy: 0.4455\n",
      "Epoch 2/20\n",
      "97/97 [==============================] - 21s 216ms/step - loss: 1.3689 - accuracy: 0.5931 - val_loss: 1.2884 - val_accuracy: 0.6227\n",
      "Epoch 3/20\n",
      "97/97 [==============================] - 21s 216ms/step - loss: 0.7242 - accuracy: 0.7823 - val_loss: 1.3182 - val_accuracy: 0.6455\n",
      "Epoch 4/20\n",
      "97/97 [==============================] - 21s 215ms/step - loss: 0.3455 - accuracy: 0.8961 - val_loss: 1.3927 - val_accuracy: 0.6205\n",
      "Epoch 5/20\n",
      "97/97 [==============================] - 21s 215ms/step - loss: 0.1784 - accuracy: 0.9473 - val_loss: 1.3373 - val_accuracy: 0.6773\n",
      "Epoch 6/20\n",
      "97/97 [==============================] - 21s 216ms/step - loss: 0.0776 - accuracy: 0.9772 - val_loss: 1.4043 - val_accuracy: 0.6955\n",
      "Epoch 7/20\n",
      "97/97 [==============================] - 21s 216ms/step - loss: 0.1040 - accuracy: 0.9741 - val_loss: 1.5653 - val_accuracy: 0.6841\n",
      "Epoch 8/20\n",
      "97/97 [==============================] - 21s 216ms/step - loss: 0.0382 - accuracy: 0.9907 - val_loss: 1.7715 - val_accuracy: 0.6682\n",
      "Epoch 9/20\n",
      "97/97 [==============================] - 21s 215ms/step - loss: 0.0511 - accuracy: 0.9850 - val_loss: 1.7581 - val_accuracy: 0.6886\n",
      "Epoch 10/20\n",
      "97/97 [==============================] - 21s 216ms/step - loss: 0.0498 - accuracy: 0.9871 - val_loss: 1.7717 - val_accuracy: 0.6773\n",
      "Epoch 11/20\n",
      "97/97 [==============================] - 21s 216ms/step - loss: 0.0595 - accuracy: 0.9850 - val_loss: 1.8959 - val_accuracy: 0.6614\n",
      "Epoch 12/20\n",
      "97/97 [==============================] - 21s 215ms/step - loss: 0.0311 - accuracy: 0.9912 - val_loss: 1.8656 - val_accuracy: 0.7159\n",
      "Epoch 13/20\n",
      "97/97 [==============================] - 21s 216ms/step - loss: 0.0175 - accuracy: 0.9953 - val_loss: 1.9507 - val_accuracy: 0.6818\n",
      "Epoch 14/20\n",
      "97/97 [==============================] - 21s 216ms/step - loss: 0.0228 - accuracy: 0.9922 - val_loss: 1.9307 - val_accuracy: 0.6750\n",
      "Epoch 15/20\n",
      "97/97 [==============================] - 21s 216ms/step - loss: 0.0349 - accuracy: 0.9912 - val_loss: 2.0972 - val_accuracy: 0.6705\n",
      "Epoch 16/20\n",
      "97/97 [==============================] - 21s 222ms/step - loss: 0.0463 - accuracy: 0.9886 - val_loss: 1.8908 - val_accuracy: 0.6727\n",
      "Epoch 17/20\n",
      "97/97 [==============================] - 21s 215ms/step - loss: 0.0259 - accuracy: 0.9933 - val_loss: 1.6772 - val_accuracy: 0.7136\n",
      "Epoch 18/20\n",
      "97/97 [==============================] - 21s 216ms/step - loss: 0.0231 - accuracy: 0.9928 - val_loss: 1.8642 - val_accuracy: 0.7091\n",
      "Epoch 19/20\n",
      "97/97 [==============================] - 21s 214ms/step - loss: 0.0310 - accuracy: 0.9922 - val_loss: 2.1067 - val_accuracy: 0.7023\n",
      "Epoch 20/20\n",
      "97/97 [==============================] - 21s 214ms/step - loss: 0.0419 - accuracy: 0.9860 - val_loss: 2.4247 - val_accuracy: 0.6295\n"
     ]
    },
    {
     "data": {
      "text/plain": [
       "<keras.callbacks.History at 0x23457eddd00>"
      ]
     },
     "execution_count": 49,
     "metadata": {},
     "output_type": "execute_result"
    }
   ],
   "source": [
    "# Обучение \n",
    "\n",
    "model.fit(\n",
    "        X_train,\n",
    "        y_train,\n",
    "        batch_size = batch_size,\n",
    "        epochs = epochs,\n",
    "        validation_data = (X_test, y_test),\n",
    ")"
   ]
  },
  {
   "cell_type": "code",
   "execution_count": 51,
   "id": "34cdf7ff",
   "metadata": {
    "scrolled": true
   },
   "outputs": [
    {
     "name": "stdout",
     "output_type": "stream",
     "text": [
      "INFO:tensorflow:Assets written to: D:/ashikh/work/CV/models/animal_classifer_v1\\assets\n"
     ]
    }
   ],
   "source": [
    "model.save(\"D:/ashikh/work/CV/models/animal_classifer_v1\")"
   ]
  },
  {
   "cell_type": "code",
   "execution_count": null,
   "id": "b9bcbd32",
   "metadata": {},
   "outputs": [],
   "source": [
    "# Тест модели на примере"
   ]
  },
  {
   "cell_type": "code",
   "execution_count": null,
   "id": "265d7a38",
   "metadata": {},
   "outputs": [],
   "source": [
    "from tensorflow import keras\n",
    "from tensorflow.keras.applications.resnet50 import ResNet50\n",
    "from keras.preprocessing import image\n",
    "from tensorflow.keras.applications.resnet50 import preprocess_input, decode_predictions\n",
    "import numpy as np"
   ]
  },
  {
   "cell_type": "code",
   "execution_count": null,
   "id": "5212e035",
   "metadata": {},
   "outputs": [],
   "source": [
    "model = keras.models.load_model(\"D:/ashikh/work/CV/English/mymodel4\")"
   ]
  },
  {
   "cell_type": "code",
   "execution_count": null,
   "id": "4826aa04",
   "metadata": {},
   "outputs": [],
   "source": [
    "img_path = \"D:/ashikh/work/CV/duckside0017.jpg\"\n"
   ]
  },
  {
   "cell_type": "code",
   "execution_count": null,
   "id": "ffeb4d95",
   "metadata": {},
   "outputs": [],
   "source": [
    "im = imread(img_path)\n",
    "im = resize(im, (150, 150))\n",
    "x = np.expand_dims(im, axis=0)\n",
    "p = model.predict(x)"
   ]
  },
  {
   "cell_type": "code",
   "execution_count": null,
   "id": "df1d1905",
   "metadata": {},
   "outputs": [],
   "source": [
    "maxx = p[0][0]\n",
    "maxx_i = 0\n",
    "for i in range(1, 7):\n",
    "    if p[0][i] > maxx:\n",
    "        maxx = p[0][i]\n",
    "        maxx_i = i\n",
    "iden = ['Bear', 'Cat', 'Chicken', \n",
    "           'Cow', 'Deer', 'Dog', 'Duck']\n",
    "\n",
    "\n",
    "fig, axes = plt.subplots(1)\n",
    "# fig.set_size_inches(15,4)\n",
    "# fig.tight_layout()\n",
    "\n",
    "idx = iden[maxx_i]\n",
    "axes.imshow(im)\n",
    "axes.axis('off')\n",
    "# axes.set_title(idx)\n",
    "    \n",
    "print(iden[maxx_i])"
   ]
  }
 ],
 "metadata": {
  "kernelspec": {
   "display_name": "Python 3 (ipykernel)",
   "language": "python",
   "name": "python3"
  },
  "language_info": {
   "codemirror_mode": {
    "name": "ipython",
    "version": 3
   },
   "file_extension": ".py",
   "mimetype": "text/x-python",
   "name": "python",
   "nbconvert_exporter": "python",
   "pygments_lexer": "ipython3",
   "version": "3.9.5"
  }
 },
 "nbformat": 4,
 "nbformat_minor": 5
}
