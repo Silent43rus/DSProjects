{
 "cells": [
  {
   "cell_type": "code",
   "execution_count": 1,
   "id": "d943bc13",
   "metadata": {},
   "outputs": [],
   "source": [
    "import keras\n",
    "import numpy as np\n",
    "import pandas as pd\n",
    "import matplotlib.pyplot as plt\n",
    "import os\n",
    "from tensorflow import keras\n",
    "from keras import *\n",
    "from keras.layers import *\n",
    "from keras.models import *\n",
    "from keras.preprocessing.image import ImageDataGenerator\n",
    "import random\n",
    "import shutil\n",
    "import keras\n",
    "import keras.utils\n",
    "from keras.utils.np_utils import to_categorical"
   ]
  },
  {
   "cell_type": "code",
   "execution_count": 2,
   "id": "a3b5a81b",
   "metadata": {},
   "outputs": [],
   "source": [
    "df = pd.read_excel('C:/DataPreprocessing_spc500_01012022_20012022/result_1_01012022_20012022.xlsx')\n",
    "perfcount = df['perfcount']\n",
    "gazrash = df['gazcount']"
   ]
  },
  {
   "cell_type": "code",
   "execution_count": 3,
   "id": "76275b24",
   "metadata": {},
   "outputs": [],
   "source": [
    "model = keras.Sequential()\n",
    "model.add(keras.layers.Dense(1, input_shape=(1,)))\n",
    "\n",
    "model.compile(optimizer = tf.keras.optimizers.Adam(learning_rate=1),\n",
    "              loss = 'mean_squared_error',\n",
    "              metrics = ['accuracy'])"
   ]
  },
  {
   "cell_type": "code",
   "execution_count": 4,
   "id": "8f21f0ed",
   "metadata": {},
   "outputs": [
    {
     "name": "stdout",
     "output_type": "stream",
     "text": [
      "Epoch 1/30\n",
      "49/49 [==============================] - 0s 595us/step - loss: 237183.7500 - accuracy: 0.0000e+00\n",
      "Epoch 2/30\n",
      "49/49 [==============================] - 0s 582us/step - loss: 81370.8984 - accuracy: 0.0000e+00\n",
      "Epoch 3/30\n",
      "49/49 [==============================] - 0s 603us/step - loss: 77899.8828 - accuracy: 0.0000e+00\n",
      "Epoch 4/30\n",
      "49/49 [==============================] - 0s 603us/step - loss: 73121.1953 - accuracy: 0.0000e+00\n",
      "Epoch 5/30\n",
      "49/49 [==============================] - 0s 561us/step - loss: 68671.0234 - accuracy: 0.0000e+00\n",
      "Epoch 6/30\n",
      "49/49 [==============================] - 0s 623us/step - loss: 64848.4062 - accuracy: 0.0000e+00\n",
      "Epoch 7/30\n",
      "49/49 [==============================] - 0s 623us/step - loss: 60801.1914 - accuracy: 0.0000e+00\n",
      "Epoch 8/30\n",
      "49/49 [==============================] - 0s 623us/step - loss: 56571.9414 - accuracy: 0.0000e+00\n",
      "Epoch 9/30\n",
      "49/49 [==============================] - 0s 644us/step - loss: 55720.6016 - accuracy: 0.0000e+00\n",
      "Epoch 10/30\n",
      "49/49 [==============================] - 0s 623us/step - loss: 50463.8906 - accuracy: 0.0000e+00\n",
      "Epoch 11/30\n",
      "49/49 [==============================] - 0s 623us/step - loss: 48879.2852 - accuracy: 0.0000e+00\n",
      "Epoch 12/30\n",
      "49/49 [==============================] - 0s 709us/step - loss: 45839.4297 - accuracy: 0.0000e+00\n",
      "Epoch 13/30\n",
      "49/49 [==============================] - 0s 623us/step - loss: 44793.8750 - accuracy: 0.0000e+00\n",
      "Epoch 14/30\n",
      "49/49 [==============================] - 0s 582us/step - loss: 43197.6055 - accuracy: 0.0000e+00\n",
      "Epoch 15/30\n",
      "49/49 [==============================] - 0s 602us/step - loss: 42339.9492 - accuracy: 0.0000e+00\n",
      "Epoch 16/30\n",
      "49/49 [==============================] - 0s 603us/step - loss: 40621.8750 - accuracy: 0.0000e+00\n",
      "Epoch 17/30\n",
      "49/49 [==============================] - 0s 623us/step - loss: 40715.2461 - accuracy: 0.0000e+00\n",
      "Epoch 18/30\n",
      "49/49 [==============================] - 0s 582us/step - loss: 37893.6641 - accuracy: 0.0000e+00\n",
      "Epoch 19/30\n",
      "49/49 [==============================] - 0s 603us/step - loss: 38241.0469 - accuracy: 0.0000e+00\n",
      "Epoch 20/30\n",
      "49/49 [==============================] - 0s 602us/step - loss: 38132.6484 - accuracy: 0.0000e+00\n",
      "Epoch 21/30\n",
      "49/49 [==============================] - 0s 603us/step - loss: 38020.9219 - accuracy: 0.0000e+00\n",
      "Epoch 22/30\n",
      "49/49 [==============================] - 0s 623us/step - loss: 36441.0234 - accuracy: 0.0000e+00\n",
      "Epoch 23/30\n",
      "49/49 [==============================] - 0s 582us/step - loss: 37299.6484 - accuracy: 0.0000e+00\n",
      "Epoch 24/30\n",
      "49/49 [==============================] - 0s 603us/step - loss: 36063.7305 - accuracy: 0.0000e+00\n",
      "Epoch 25/30\n",
      "49/49 [==============================] - 0s 582us/step - loss: 36441.8750 - accuracy: 0.0000e+00\n",
      "Epoch 26/30\n",
      "49/49 [==============================] - 0s 603us/step - loss: 37023.5664 - accuracy: 0.0000e+00\n",
      "Epoch 27/30\n",
      "49/49 [==============================] - 0s 602us/step - loss: 36324.8750 - accuracy: 0.0000e+00\n",
      "Epoch 28/30\n",
      "49/49 [==============================] - 0s 582us/step - loss: 36305.3398 - accuracy: 0.0000e+00\n",
      "Epoch 29/30\n",
      "49/49 [==============================] - 0s 603us/step - loss: 35391.9414 - accuracy: 0.0000e+00\n",
      "Epoch 30/30\n",
      "49/49 [==============================] - 0s 603us/step - loss: 35262.3008 - accuracy: 0.0000e+00\n"
     ]
    },
    {
     "data": {
      "text/plain": [
       "<keras.callbacks.History at 0x2973be3a160>"
      ]
     },
     "execution_count": 4,
     "metadata": {},
     "output_type": "execute_result"
    }
   ],
   "source": [
    "model.fit(perfcount, gazrash, epochs=30, batch_size=10)"
   ]
  },
  {
   "cell_type": "code",
   "execution_count": 5,
   "id": "3561ba35",
   "metadata": {},
   "outputs": [
    {
     "data": {
      "text/plain": [
       "[<matplotlib.lines.Line2D at 0x2973f1242e0>]"
      ]
     },
     "execution_count": 5,
     "metadata": {},
     "output_type": "execute_result"
    },
    {
     "data": {
      "image/png": "[encoded data removed]",
      "text/plain": [
       "<Figure size 432x288 with 1 Axes>"
      ]
     },
     "metadata": {
      "needs_background": "light"
     },
     "output_type": "display_data"
    }
   ],
   "source": [
    "df.plot(kind='scatter', x = 'perfcount', y='gazcount', title='PerfCount and GazCount')\n",
    "y_pred = model.predict(perfcount)\n",
    "plt.plot(perfcount, y_pred, color='red')"
   ]
  },
  {
   "cell_type": "code",
   "execution_count": 6,
   "id": "24576ae1",
   "metadata": {},
   "outputs": [
    {
     "name": "stdout",
     "output_type": "stream",
     "text": [
      "[[1166.6641]]\n"
     ]
    }
   ],
   "source": [
    "new_perf = 50\n",
    "print(model.predict([new_perf]))"
   ]
  },
  {
   "cell_type": "code",
   "execution_count": null,
   "id": "92a2ada0",
   "metadata": {},
   "outputs": [],
   "source": []
  }
 ],
 "metadata": {
  "kernelspec": {
   "display_name": "Python 3 (ipykernel)",
   "language": "python",
   "name": "python3"
  },
  "language_info": {
   "codemirror_mode": {
    "name": "ipython",
    "version": 3
   },
   "file_extension": ".py",
   "mimetype": "text/x-python",
   "name": "python",
   "nbconvert_exporter": "python",
   "pygments_lexer": "ipython3",
   "version": "3.9.5"
  }
 },
 "nbformat": 4,
 "nbformat_minor": 5
}
