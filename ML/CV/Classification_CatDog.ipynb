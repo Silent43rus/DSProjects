{
 "cells": [
  {
   "cell_type": "code",
   "execution_count": null,
   "id": "c9e0934c",
   "metadata": {},
   "outputs": [],
   "source": [
    "import os"
   ]
  },
  {
   "cell_type": "code",
   "execution_count": null,
   "id": "d5edec21",
   "metadata": {},
   "outputs": [],
   "source": [
    "path_cat = \"D:/ashikh/work/CV/PetImages/Cat/\"\n",
    "path_dog = \"D:/ashikh/work/CV/PetImages/Dog/\"\n",
    "file_name = '{}.jpg'\n",
    "new_cat = 'cat.'\n",
    "new_dog = 'dog.'"
   ]
  },
  {
   "cell_type": "code",
   "execution_count": null,
   "id": "60cf429f",
   "metadata": {},
   "outputs": [],
   "source": [
    "for i in range(12500):\n",
    "    os.rename(path_dog + file_name.format(str(i)), path_dog + new_dog + file_name.format(str(i)))"
   ]
  },
  {
   "cell_type": "code",
   "execution_count": null,
   "id": "e3abf154",
   "metadata": {},
   "outputs": [],
   "source": [
    "import os\n",
    "import shutil\n",
    "import time"
   ]
  },
  {
   "cell_type": "code",
   "execution_count": null,
   "id": "15b9f1cf",
   "metadata": {},
   "outputs": [],
   "source": [
    "n_name = ['Cat', 'Dog']\n",
    "choise_name = ['train', 'val', 'test']\n",
    "path = \"D:/ashikh/work/CV/PetImages/\"\n",
    "#for c in choise_name:\n",
    "#    os.mkdir(path + c)\n",
    "#    for d in n_name:\n",
    "#        os.mkdir(path + c + '/' + d)\n",
    "        "
   ]
  },
  {
   "cell_type": "code",
   "execution_count": null,
   "id": "d04ef71b",
   "metadata": {},
   "outputs": [],
   "source": [
    "file_cat = \"cat.{}.jpg\"\n",
    "file_dog = \"dog.{}.jpg\""
   ]
  },
  {
   "cell_type": "code",
   "execution_count": null,
   "id": "624ed589",
   "metadata": {},
   "outputs": [],
   "source": [
    "# Генерим тестовую выборку\n",
    "\n",
    "for i in range(0, 4001):\n",
    "    if os.path.exists(path_cat + file_cat.format(str(i))):\n",
    "        shutil.copy(path_cat + file_cat.format(str(i)), path + choise_name[0] + '/' + n_name[0] + '/' + file_cat.format(str(i)))\n",
    "for i in range(0, 4001):\n",
    "    if os.path.exists(path_dog + file_dog.format(str(i))):\n",
    "        shutil.copy(path_dog + file_dog.format(str(i)), path + choise_name[0] + '/' + n_name[1] + '/' + file_dog.format(str(i)))"
   ]
  },
  {
   "cell_type": "code",
   "execution_count": null,
   "id": "11c03d7d",
   "metadata": {},
   "outputs": [],
   "source": [
    "# Генерим проверочную выборку\n",
    "\n",
    "for i in range(4001, 8002):\n",
    "    if os.path.exists(path_cat + file_cat.format(str(i))):\n",
    "        shutil.copy(path_cat + file_cat.format(str(i)), path + choise_name[1] + '/' + n_name[0] + '/' + file_cat.format(str(i)))\n",
    "for i in range(4001, 8002):\n",
    "    if os.path.exists(path_dog + file_dog.format(str(i))):\n",
    "        shutil.copy(path_dog + file_dog.format(str(i)), path + choise_name[1] + '/' + n_name[1] + '/' + file_dog.format(str(i)))"
   ]
  },
  {
   "cell_type": "code",
   "execution_count": null,
   "id": "245e5cb0",
   "metadata": {},
   "outputs": [],
   "source": [
    "%%time\n",
    "# Генерим тестовую выборку\n",
    "\n",
    "for i in range(8002, 12003):\n",
    "    if os.path.exists(path_cat + file_cat.format(str(i))):\n",
    "        shutil.copy(path_cat + file_cat.format(str(i)), path + choise_name[2] + '/' + n_name[0] + '/' + file_cat.format(str(i)))\n",
    "for i in range(8002, 12003):\n",
    "    if os.path.exists(path_dog + file_dog.format(str(i))):\n",
    "        shutil.copy(path_dog + file_dog.format(str(i)), path + choise_name[2] + '/' + n_name[1] + '/' + file_dog.format(str(i)))"
   ]
  },
  {
   "cell_type": "code",
   "execution_count": null,
   "id": "b9ad0b62",
   "metadata": {},
   "outputs": [],
   "source": []
  },
  {
   "cell_type": "code",
   "execution_count": null,
   "id": "d06f120b",
   "metadata": {},
   "outputs": [],
   "source": [
    "# CV\n",
    "\n",
    "from keras.preprocessing.image import ImageDataGenerator\n",
    "from keras.models import Sequential\n",
    "from keras.layers import Conv2D, MaxPooling2D\n",
    "from keras.layers import Activation, Dropout, Flatten, Dense"
   ]
  },
  {
   "cell_type": "code",
   "execution_count": null,
   "id": "878736e2",
   "metadata": {},
   "outputs": [],
   "source": [
    "train_dir = 'D:/ashikh/work/CV/AnimalFaces_choice/train'\n",
    "val_dir = 'D:/ashikh/work/CV/AnimalFaces_choice/test'\n",
    "test_dir = 'D:/ashikh/work/CV/AnimalFaces_choice/test'\n",
    "img_width, img_height = 150, 150\n",
    "input_shape = (img_width, img_height, 3)\n",
    "epochs = 30\n",
    "batch_size = 10\n",
    "nb_train_samples = 580\n",
    "nb_validation_samples = 130\n",
    "nb_test_samples = 130"
   ]
  },
  {
   "cell_type": "code",
   "execution_count": null,
   "id": "03d0d1e3",
   "metadata": {},
   "outputs": [],
   "source": [
    "model = Sequential()\n",
    "model.add(Conv2D(32, (3, 3), input_shape = input_shape))\n",
    "model.add(Activation('relu'))\n",
    "model.add(MaxPooling2D(pool_size = (2, 2)))\n",
    "\n",
    "model.add(Conv2D(32, (3, 3)))\n",
    "model.add(Activation('relu'))\n",
    "model.add(MaxPooling2D(pool_size = (2, 2)))\n",
    "\n",
    "model.add(Conv2D(64, (3, 3)))\n",
    "model.add(Activation('relu'))\n",
    "model.add(MaxPooling2D(pool_size = (2, 2)))\n",
    "\n",
    "model.add(Flatten())\n",
    "model.add(Dense(64))\n",
    "model.add(Activation('relu'))\n",
    "model.add(Dropout(0.5))\n",
    "model.add(Dense(7))\n",
    "model.add(Activation('sigmoid'))"
   ]
  },
  {
   "cell_type": "code",
   "execution_count": null,
   "id": "0c498c8d",
   "metadata": {},
   "outputs": [],
   "source": [
    "model.compile(loss = 'categorical_crossentropy',\n",
    "              optimizer = 'adam',\n",
    "              metrics = ['accuracy'])"
   ]
  },
  {
   "cell_type": "code",
   "execution_count": null,
   "id": "668fde3f",
   "metadata": {},
   "outputs": [],
   "source": [
    "datagen = ImageDataGenerator(rescale = 1. / 255)"
   ]
  },
  {
   "cell_type": "code",
   "execution_count": null,
   "id": "f657f337",
   "metadata": {},
   "outputs": [],
   "source": [
    "train_generator = datagen.flow_from_directory(\n",
    "    train_dir,\n",
    "    target_size = (img_width, img_height),\n",
    "    batch_size = batch_size,\n",
    "    class_mode = 'categorical')"
   ]
  },
  {
   "cell_type": "code",
   "execution_count": null,
   "id": "8d9509d7",
   "metadata": {},
   "outputs": [],
   "source": [
    "val_generator = datagen.flow_from_directory(\n",
    "    val_dir,\n",
    "    target_size = (img_width, img_height),\n",
    "    batch_size = batch_size,\n",
    "    class_mode = 'categorical')"
   ]
  },
  {
   "cell_type": "code",
   "execution_count": null,
   "id": "483ec94c",
   "metadata": {},
   "outputs": [],
   "source": [
    "test_generator = datagen.flow_from_directory(\n",
    "    test_dir,\n",
    "    target_size = (img_width, img_height),\n",
    "    batch_size = batch_size,\n",
    "    class_mode = 'categorical')"
   ]
  },
  {
   "cell_type": "code",
   "execution_count": null,
   "id": "f5996e2c",
   "metadata": {},
   "outputs": [],
   "source": [
    "# Обучение \n",
    "\n",
    "model.fit_generator(\n",
    "        train_generator,\n",
    "        steps_per_epoch = nb_train_samples // batch_size,\n",
    "        epochs = epochs,\n",
    "        validation_data = val_generator,\n",
    "        validation_steps = nb_validation_samples // batch_size)\n"
   ]
  },
  {
   "cell_type": "code",
   "execution_count": null,
   "id": "2e8b0136",
   "metadata": {},
   "outputs": [],
   "source": [
    "model.save(\"D:/ashikh/work/CV/PetImages/mymodel4\")"
   ]
  },
  {
   "cell_type": "code",
   "execution_count": null,
   "id": "56801108",
   "metadata": {},
   "outputs": [],
   "source": [
    "scores = model.evaluate_generator(test_generator, nb_test_samples // batch_size)\n",
    "print('Accuracy: %.3f%%' % (scores[1]*100))"
   ]
  },
  {
   "cell_type": "code",
   "execution_count": null,
   "id": "9c049541",
   "metadata": {},
   "outputs": [],
   "source": [
    "from tensorflow import keras\n",
    "from tensorflow.keras.applications.resnet50 import ResNet50\n",
    "from keras.preprocessing import image\n",
    "from tensorflow.keras.applications.resnet50 import preprocess_input, decode_predictions\n",
    "import numpy as np"
   ]
  },
  {
   "cell_type": "code",
   "execution_count": null,
   "id": "4a323d62",
   "metadata": {},
   "outputs": [],
   "source": [
    "model = keras.models.load_model(\"D:/ashikh/work/CV/PetImages/mymodel4\")"
   ]
  },
  {
   "cell_type": "code",
   "execution_count": null,
   "id": "d2a16bb9",
   "metadata": {},
   "outputs": [],
   "source": [
    "img_path = \"D:/ashikh/work/CV/pandafrontal0010.jpg\"\n",
    "img = image.load_img(img_path, target_size = (150, 150))"
   ]
  },
  {
   "cell_type": "code",
   "execution_count": null,
   "id": "f56b5959",
   "metadata": {},
   "outputs": [],
   "source": [
    "x = image.img_to_array(img)\n",
    "x = np.expand_dims(x, axis=0)\n",
    "x = preprocess_input(x)\n",
    "p = model.predict(x)"
   ]
  },
  {
   "cell_type": "code",
   "execution_count": null,
   "id": "7ab83616",
   "metadata": {},
   "outputs": [],
   "source": [
    "p"
   ]
  },
  {
   "cell_type": "code",
   "execution_count": null,
   "id": "2a231642",
   "metadata": {},
   "outputs": [],
   "source": [
    "print('кошка' if p[0] == 0 else 'собака')"
   ]
  },
  {
   "cell_type": "code",
   "execution_count": null,
   "id": "75dbcc11",
   "metadata": {},
   "outputs": [],
   "source": [
    "#Как я могу прервать обучение, когда потеря валидации больше не уменьшается?\n",
    "#вы можете использовать обратный вызов EarlyStopping:\n",
    "\n",
    "from keras.callbacks import EarlyStopping\n",
    "\n",
    "early_stopping = EarlyStopping(monitor=’val_loss’, patience=2)\n",
    "\n",
    "model.fit(x, y, validation_split=0.2, callbacks=[early_stopping])\n",
    "\n"
   ]
  },
  {
   "cell_type": "code",
   "execution_count": null,
   "id": "a8b17955",
   "metadata": {},
   "outputs": [],
   "source": [
    "# Определитель битых изображений\n",
    "\n",
    "import glob\n",
    "import os\n",
    "from PIL import Image\n",
    "from skimage.io import imread\n",
    "from skimage.transform  import resize\n",
    "\n",
    "imagepath = \"D:/ashikh/work/CV/AnimalFaces_choice/train\"\n",
    "for subdir in os.listdir(imagepath):    \n",
    "    curr_path = os.path.join(imagepath, subdir)\n",
    "    for imgname in os.listdir(curr_path):\n",
    "        if imgname[-3:] in {'jpg', 'png'}:\n",
    "            im = imread(os.path.join(curr_path, imgname))\n",
    "            im = resize(im, (150, 150))\n",
    "            if im.shape != (150,150,3):\n",
    "                print(im.shape)\n",
    "                print(curr_path, imgname)\n",
    "            if img is None:\n",
    "                print(imgname)"
   ]
  },
  {
   "cell_type": "code",
   "execution_count": null,
   "id": "6ae2d1c5",
   "metadata": {},
   "outputs": [],
   "source": [
    "imgname = \"dog000592a.jpg\"\n",
    "imgpath = \"D:/ashikh/work/CV/AnimalFaces_choice/train/DogHead\"\n",
    "im = imread(os.path.join(imgpath, imgname))\n",
    "im = resize(im, (150, 150))\n",
    "print(im.shape)"
   ]
  },
  {
   "cell_type": "code",
   "execution_count": null,
   "id": "ad091212",
   "metadata": {},
   "outputs": [],
   "source": []
  }
 ],
 "metadata": {
  "kernelspec": {
   "display_name": "Python 3 (ipykernel)",
   "language": "python",
   "name": "python3"
  },
  "language_info": {
   "codemirror_mode": {
    "name": "ipython",
    "version": 3
   },
   "file_extension": ".py",
   "mimetype": "text/x-python",
   "name": "python",
   "nbconvert_exporter": "python",
   "pygments_lexer": "ipython3",
   "version": "3.9.5"
  }
 },
 "nbformat": 4,
 "nbformat_minor": 5
}
