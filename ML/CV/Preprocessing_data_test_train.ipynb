{
 "cells": [
  {
   "cell_type": "code",
   "execution_count": null,
   "id": "4cc473fa",
   "metadata": {},
   "outputs": [],
   "source": [
    "import os\n",
    "import shutil"
   ]
  },
  {
   "cell_type": "code",
   "execution_count": null,
   "id": "f73153a8",
   "metadata": {},
   "outputs": [],
   "source": [
    "def preproc_data(src, include, new_src, size, gen_type, check):\n",
    "    for subdir in os.listdir(src):\n",
    "        if subdir in include:\n",
    "            current_path = os.path.join(src, subdir)\n",
    "            new_directory = os.path.join(new_src, subdir)\n",
    "            os.mkdir(new_directory)\n",
    "            count = 0\n",
    "            for file in os.listdir(current_path):\n",
    "                if count < len(os.listdir(current_path)) * size:\n",
    "                    if file[-3:] in {'jpg','png'}:\n",
    "                        if gen_type == 'test':\n",
    "                            check_dir = os.path.join(check, 'train')\n",
    "                            check_dir = os.path.join(check_dir, subdir)\n",
    "                            if not os.path.exists(os.path.join(check_dir, file)):\n",
    "                                shutil.copy(os.path.join(current_path, file), os.path.join(new_directory, file))\n",
    "                                count += 1\n",
    "                        else:\n",
    "                            shutil.copy(os.path.join(current_path, file), os.path.join(new_directory, file))\n",
    "                            count += 1\n",
    "                else:\n",
    "                    break\n",
    "                    "
   ]
  },
  {
   "cell_type": "code",
   "execution_count": null,
   "id": "8529d314",
   "metadata": {},
   "outputs": [],
   "source": [
    "def generate_data(src, include, new_src, size_train, size_test):\n",
    "    name_dir = ['train', 'test']\n",
    "    os.mkdir(os.path.join(new_src, name_dir[0]))\n",
    "    preproc_data(src, include, os.path.join(new_src, name_dir[0]), size_train, name_dir[0], new_src)\n",
    "    os.mkdir(os.path.join(new_src, name_dir[1]))\n",
    "    preproc_data(src, include, os.path.join(new_src, name_dir[1]), size_test, name_dir[1], new_src)\n",
    "    "
   ]
  },
  {
   "cell_type": "code",
   "execution_count": null,
   "id": "2b2f1fed",
   "metadata": {},
   "outputs": [],
   "source": [
    "path_data = \"D:/ashikh/work/CV/AnimalFaces\"\n",
    "include = ['BearHead', 'CatHead', 'ChickenHead', \n",
    "           'CowHead', 'DeerHead', 'DogHead', 'DuckHead',\n",
    "           'EagleHead', 'ElephantHead', 'HumanHead', 'LionHead', 'MonkeyHead',\n",
    "           'MouseHead', 'PandaHead', 'PigeonHead', 'PigHead', 'RabbitHead',\n",
    "           'SheepHead', 'TigerHead', 'WolfHead']\n",
    "new_path_data = \"D:/ashikh/work/CV/AnimalFaces_choice\"\n",
    "size_train = 0.8\n",
    "size_test = 0.2\n"
   ]
  },
  {
   "cell_type": "code",
   "execution_count": null,
   "id": "08917707",
   "metadata": {},
   "outputs": [],
   "source": [
    "generate_data(path_data, include, new_path_data, size_train, size_test)"
   ]
  },
  {
   "cell_type": "code",
   "execution_count": null,
   "id": "89f79658",
   "metadata": {},
   "outputs": [],
   "source": [
    "len(os.listdir(os.path.join(\"D:/ashikh/work/CV/AnimalFaces\", \"BearHead\"))) * size_train"
   ]
  },
  {
   "cell_type": "code",
   "execution_count": null,
   "id": "43337b96",
   "metadata": {},
   "outputs": [],
   "source": [
    "len(os.listdir('D:/ashikh/work/CV/AnimalFaces\\\\EagleHead')) * 0.8"
   ]
  },
  {
   "cell_type": "code",
   "execution_count": null,
   "id": "7e666172",
   "metadata": {},
   "outputs": [],
   "source": []
  }
 ],
 "metadata": {
  "kernelspec": {
   "display_name": "Python 3 (ipykernel)",
   "language": "python",
   "name": "python3"
  },
  "language_info": {
   "codemirror_mode": {
    "name": "ipython",
    "version": 3
   },
   "file_extension": ".py",
   "mimetype": "text/x-python",
   "name": "python",
   "nbconvert_exporter": "python",
   "pygments_lexer": "ipython3",
   "version": "3.9.5"
  }
 },
 "nbformat": 4,
 "nbformat_minor": 5
}
